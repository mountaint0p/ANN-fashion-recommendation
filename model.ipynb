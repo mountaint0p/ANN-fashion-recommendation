{
 "cells": [
  {
   "cell_type": "code",
   "execution_count": 5,
   "metadata": {},
   "outputs": [],
   "source": [
    "from keras.preprocessing.image import ImageDataGenerator\n",
    "import pandas as pd\n",
    "import numpy as np\n",
    "\n",
    "train_df = pd.read_csv(\"./split-data/train_new.csv\")\n",
    "test_df = pd.read_csv(\"./split-data/test_new.csv\")\n",
    "val_df = pd.read_csv(\"./split-data/val_new.csv\")"
   ]
  },
  {
   "cell_type": "code",
   "execution_count": 6,
   "metadata": {},
   "outputs": [
    {
     "name": "stdout",
     "output_type": "stream",
     "text": [
      "Found 4011 validated image filenames belonging to 46 classes.\n",
      "Found 3139 validated image filenames belonging to 46 classes.\n"
     ]
    }
   ],
   "source": [
    "traingen=ImageDataGenerator(rescale= 1./255)\n",
    "train_generator=traingen.flow_from_dataframe(\n",
    "dataframe=train_df,\n",
    "directory=\"./dataset\",\n",
    "x_col=\"img_path\",\n",
    "y_col= \"category\",\n",
    "batch_size=128,\n",
    "shuffle= True,\n",
    "target_size = (256,256),\n",
    "class_mode=\"categorical\",\n",
    "workers=4\n",
    ")\n",
    "\n",
    "valgen = ImageDataGenerator(rescale=1./255)\n",
    "val_generator = valgen.flow_from_dataframe(\n",
    "    dataframe=val_df,\n",
    "    directory=\"./dataset\",\n",
    "    x_col=\"img_path\",\n",
    "    y_col=\"category\",\n",
    "    target_size=(256, 256),\n",
    "    batch_size=128,\n",
    "    class_mode=\"categorical\",\n",
    "    workers=4\n",
    ")"
   ]
  },
  {
   "cell_type": "code",
   "execution_count": 7,
   "metadata": {},
   "outputs": [],
   "source": [
    "from keras.models import Model\n",
    "from keras.layers import Dense, Dropout\n",
    "from keras.regularizers import l2\n",
    "from keras.optimizers import SGD,Adam\n",
    "from keras.applications.vgg16 import VGG16\n",
    "from keras.preprocessing import image\n",
    "from keras.preprocessing.image import ImageDataGenerator\n",
    "from keras.callbacks import ReduceLROnPlateau, EarlyStopping\n",
    "from keras import backend as K\n",
    "from keras.layers import Dense, Flatten\n",
    "from tensorflow.keras.applications.densenet import DenseNet121"
   ]
  },
  {
   "cell_type": "code",
   "execution_count": null,
   "metadata": {},
   "outputs": [],
   "source": [
    "# Load pretrained DenseNet121 model\n",
    "\n",
    "# Make classifer deeper\n",
    "# Add new features (dropout, etc)\n",
    "# Make more layeres trainable (last 1-2)\n",
    "base_model = DenseNet121(weights='imagenet', include_top=False, pooling='avg', input_shape=(256, 256, 3))\n",
    "for i in range(0, len(base_model.layers) - 2):\n",
    "    base_model.layers[i].trainable = False\n",
    "\n",
    "# Create new model\n",
    "base_output = base_model.output\n",
    "# Add new classifier layers (Dense)\n",
    "num_classes = 46\n",
    "layer1 = Dense(512, activation='relu', kernel_regularizer=l2(0.001))(base_output)\n",
    "dropout1 = Dropout(0.2)(layer1)\n",
    "layer2 = Dense(512, activation='relu', kernel_regularizer=l2(0.001))(dropout1)\n",
    "dropout2 = Dropout(0.2)(layer2)\n",
    "output = Dense(num_classes, activation='softmax')(dropout2)\n",
    "model = Model(inputs=base_model.inputs, outputs=output)\n",
    "\n",
    "model.compile(optimizer=Adam(learning_rate=0.001), loss='categorical_crossentropy', metrics=['accuracy', 'top_k_categorical_accuracy'])\n",
    "\n",
    "callbacks = [\n",
    "    ReduceLROnPlateau(monitor='val_loss', factor=0.2, patience=5, min_lr=1e-6),\n",
    "    EarlyStopping(monitor='val_loss', patience=10, restore_best_weights=True),\n",
    "]\n",
    "\n"
   ]
  },
  {
   "cell_type": "code",
   "execution_count": 11,
   "metadata": {},
   "outputs": [
    {
     "name": "stdout",
     "output_type": "stream",
     "text": [
      "Epoch 1/10\n"
     ]
    },
    {
     "name": "stderr",
     "output_type": "stream",
     "text": [
      "2024-12-03 09:44:26.013778: I tensorflow/core/common_runtime/executor.cc:1197] [/device:CPU:0] (DEBUG INFO) Executor start aborting (this does not indicate an error and you can ignore this message): INVALID_ARGUMENT: You must feed a value for placeholder tensor 'Placeholder/_0' with dtype int32\n",
      "\t [[{{node Placeholder/_0}}]]\n",
      "2024-12-03 09:44:26.036286: W tensorflow/tsl/platform/profile_utils/cpu_utils.cc:128] Failed to get CPU frequency: 0 Hz\n"
     ]
    },
    {
     "name": "stdout",
     "output_type": "stream",
     "text": [
      "32/32 [==============================] - ETA: 0s - loss: 11.1480 - accuracy: 0.1112 - top_k_categorical_accuracy: 0.3603WARNING:tensorflow:Learning rate reduction is conditioned on metric `val_loss` which is not available. Available metrics are: loss,accuracy,top_k_categorical_accuracy,lr\n",
      "WARNING:tensorflow:Early stopping conditioned on metric `val_loss` which is not available. Available metrics are: loss,accuracy,top_k_categorical_accuracy,lr\n",
      "32/32 [==============================] - 166s 5s/step - loss: 11.1480 - accuracy: 0.1112 - top_k_categorical_accuracy: 0.3603 - lr: 0.0010\n",
      "Epoch 2/10\n",
      "32/32 [==============================] - ETA: 0s - loss: 5.9359 - accuracy: 0.2536 - top_k_categorical_accuracy: 0.6305WARNING:tensorflow:Learning rate reduction is conditioned on metric `val_loss` which is not available. Available metrics are: loss,accuracy,top_k_categorical_accuracy,lr\n",
      "WARNING:tensorflow:Early stopping conditioned on metric `val_loss` which is not available. Available metrics are: loss,accuracy,top_k_categorical_accuracy,lr\n",
      "32/32 [==============================] - 177s 6s/step - loss: 5.9359 - accuracy: 0.2536 - top_k_categorical_accuracy: 0.6305 - lr: 0.0010\n",
      "Epoch 3/10\n",
      "32/32 [==============================] - ETA: 0s - loss: 4.3180 - accuracy: 0.3216 - top_k_categorical_accuracy: 0.7056WARNING:tensorflow:Learning rate reduction is conditioned on metric `val_loss` which is not available. Available metrics are: loss,accuracy,top_k_categorical_accuracy,lr\n",
      "WARNING:tensorflow:Early stopping conditioned on metric `val_loss` which is not available. Available metrics are: loss,accuracy,top_k_categorical_accuracy,lr\n",
      "32/32 [==============================] - 181s 6s/step - loss: 4.3180 - accuracy: 0.3216 - top_k_categorical_accuracy: 0.7056 - lr: 0.0010\n",
      "Epoch 4/10\n",
      "32/32 [==============================] - ETA: 0s - loss: 3.6617 - accuracy: 0.3503 - top_k_categorical_accuracy: 0.7362WARNING:tensorflow:Learning rate reduction is conditioned on metric `val_loss` which is not available. Available metrics are: loss,accuracy,top_k_categorical_accuracy,lr\n",
      "WARNING:tensorflow:Early stopping conditioned on metric `val_loss` which is not available. Available metrics are: loss,accuracy,top_k_categorical_accuracy,lr\n",
      "32/32 [==============================] - 184s 6s/step - loss: 3.6617 - accuracy: 0.3503 - top_k_categorical_accuracy: 0.7362 - lr: 0.0010\n",
      "Epoch 5/10\n",
      "32/32 [==============================] - ETA: 0s - loss: 3.2684 - accuracy: 0.3782 - top_k_categorical_accuracy: 0.7669WARNING:tensorflow:Learning rate reduction is conditioned on metric `val_loss` which is not available. Available metrics are: loss,accuracy,top_k_categorical_accuracy,lr\n",
      "WARNING:tensorflow:Early stopping conditioned on metric `val_loss` which is not available. Available metrics are: loss,accuracy,top_k_categorical_accuracy,lr\n",
      "32/32 [==============================] - 189s 6s/step - loss: 3.2684 - accuracy: 0.3782 - top_k_categorical_accuracy: 0.7669 - lr: 0.0010\n",
      "Epoch 6/10\n",
      "32/32 [==============================] - ETA: 0s - loss: 3.0414 - accuracy: 0.3967 - top_k_categorical_accuracy: 0.7699WARNING:tensorflow:Learning rate reduction is conditioned on metric `val_loss` which is not available. Available metrics are: loss,accuracy,top_k_categorical_accuracy,lr\n",
      "WARNING:tensorflow:Early stopping conditioned on metric `val_loss` which is not available. Available metrics are: loss,accuracy,top_k_categorical_accuracy,lr\n",
      "32/32 [==============================] - 195s 6s/step - loss: 3.0414 - accuracy: 0.3967 - top_k_categorical_accuracy: 0.7699 - lr: 0.0010\n",
      "Epoch 7/10\n",
      "32/32 [==============================] - ETA: 0s - loss: 2.8776 - accuracy: 0.4069 - top_k_categorical_accuracy: 0.7828WARNING:tensorflow:Learning rate reduction is conditioned on metric `val_loss` which is not available. Available metrics are: loss,accuracy,top_k_categorical_accuracy,lr\n",
      "WARNING:tensorflow:Early stopping conditioned on metric `val_loss` which is not available. Available metrics are: loss,accuracy,top_k_categorical_accuracy,lr\n",
      "32/32 [==============================] - 193s 6s/step - loss: 2.8776 - accuracy: 0.4069 - top_k_categorical_accuracy: 0.7828 - lr: 0.0010\n",
      "Epoch 8/10\n",
      "32/32 [==============================] - ETA: 0s - loss: 2.7208 - accuracy: 0.4258 - top_k_categorical_accuracy: 0.8005WARNING:tensorflow:Learning rate reduction is conditioned on metric `val_loss` which is not available. Available metrics are: loss,accuracy,top_k_categorical_accuracy,lr\n",
      "WARNING:tensorflow:Early stopping conditioned on metric `val_loss` which is not available. Available metrics are: loss,accuracy,top_k_categorical_accuracy,lr\n",
      "32/32 [==============================] - 207s 6s/step - loss: 2.7208 - accuracy: 0.4258 - top_k_categorical_accuracy: 0.8005 - lr: 0.0010\n",
      "Epoch 9/10\n",
      "32/32 [==============================] - ETA: 0s - loss: 2.6284 - accuracy: 0.4313 - top_k_categorical_accuracy: 0.8048WARNING:tensorflow:Learning rate reduction is conditioned on metric `val_loss` which is not available. Available metrics are: loss,accuracy,top_k_categorical_accuracy,lr\n",
      "WARNING:tensorflow:Early stopping conditioned on metric `val_loss` which is not available. Available metrics are: loss,accuracy,top_k_categorical_accuracy,lr\n",
      "32/32 [==============================] - 204s 6s/step - loss: 2.6284 - accuracy: 0.4313 - top_k_categorical_accuracy: 0.8048 - lr: 0.0010\n",
      "Epoch 10/10\n",
      "32/32 [==============================] - ETA: 0s - loss: 2.5771 - accuracy: 0.4388 - top_k_categorical_accuracy: 0.8050WARNING:tensorflow:Learning rate reduction is conditioned on metric `val_loss` which is not available. Available metrics are: loss,accuracy,top_k_categorical_accuracy,lr\n",
      "WARNING:tensorflow:Early stopping conditioned on metric `val_loss` which is not available. Available metrics are: loss,accuracy,top_k_categorical_accuracy,lr\n",
      "32/32 [==============================] - 200s 6s/step - loss: 2.5771 - accuracy: 0.4388 - top_k_categorical_accuracy: 0.8050 - lr: 0.0010\n"
     ]
    }
   ],
   "source": [
    "# Train the model\n",
    "history = model.fit(\n",
    "    train_generator,\n",
    "    epochs=10,\n",
    "    steps_per_epoch=len(train_generator),\n",
    "    callbacks=callbacks\n",
    ")"
   ]
  },
  {
   "cell_type": "code",
   "execution_count": 12,
   "metadata": {},
   "outputs": [],
   "source": [
    "# save the model to a file\n",
    "model.save(\"model.h5\")"
   ]
  },
  {
   "cell_type": "code",
   "execution_count": 13,
   "metadata": {},
   "outputs": [
    {
     "name": "stdout",
     "output_type": "stream",
     "text": [
      "Found 3133 validated image filenames belonging to 46 classes.\n"
     ]
    }
   ],
   "source": [
    "# test the model\n",
    "testgen = ImageDataGenerator(rescale=1./255)\n",
    "test_generator = testgen.flow_from_dataframe(\n",
    "    dataframe=test_df,\n",
    "    directory=\"./dataset\",\n",
    "    x_col=\"img_path\",\n",
    "    y_col=\"category\",\n",
    "    target_size=(256, 256),\n",
    "    batch_size=128,\n",
    "    class_mode=\"categorical\",\n",
    "    workers=4\n",
    ")"
   ]
  },
  {
   "cell_type": "code",
   "execution_count": null,
   "metadata": {},
   "outputs": [
    {
     "name": "stderr",
     "output_type": "stream",
     "text": [
      "2024-12-03 10:17:14.556660: I tensorflow/core/common_runtime/executor.cc:1197] [/device:CPU:0] (DEBUG INFO) Executor start aborting (this does not indicate an error and you can ignore this message): INVALID_ARGUMENT: You must feed a value for placeholder tensor 'Placeholder/_0' with dtype int32\n",
      "\t [[{{node Placeholder/_0}}]]\n"
     ]
    },
    {
     "name": "stdout",
     "output_type": "stream",
     "text": [
      "17/25 [===================>..........] - ETA: 46s - loss: 2.8392 - accuracy: 0.3511 - top_k_categorical_accuracy: 0.7477"
     ]
    }
   ],
   "source": [
    "# test the model on the first batch of test data\n",
    "model.evaluate(test_generator)"
   ]
  }
 ],
 "metadata": {
  "kernelspec": {
   "display_name": "ann",
   "language": "python",
   "name": "python3"
  },
  "language_info": {
   "codemirror_mode": {
    "name": "ipython",
    "version": 3
   },
   "file_extension": ".py",
   "mimetype": "text/x-python",
   "name": "python",
   "nbconvert_exporter": "python",
   "pygments_lexer": "ipython3",
   "version": "3.9.18"
  }
 },
 "nbformat": 4,
 "nbformat_minor": 2
}
