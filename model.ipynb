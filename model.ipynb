{
 "cells": [
  {
   "cell_type": "code",
   "execution_count": 1,
   "metadata": {},
   "outputs": [],
   "source": [
    "from keras.preprocessing.image import ImageDataGenerator\n",
    "import pandas as pd\n",
    "import numpy as np\n",
    "\n",
    "train_df = pd.read_csv(\"./split-data/train_new.csv\")\n",
    "test_df = pd.read_csv(\"./split-data/test_new.csv\")\n",
    "val_df = pd.read_csv(\"./split-data/val_new.csv\")"
   ]
  },
  {
   "cell_type": "code",
   "execution_count": 3,
   "metadata": {},
   "outputs": [
    {
     "name": "stdout",
     "output_type": "stream",
     "text": [
      "Found 4011 validated image filenames belonging to 46 classes.\n",
      "Found 3139 validated image filenames belonging to 46 classes.\n"
     ]
    }
   ],
   "source": [
    "traingen=ImageDataGenerator(rescale= 1./255)\n",
    "train_generator=traingen.flow_from_dataframe(\n",
    "dataframe=train_df,\n",
    "directory=\"./dataset\",\n",
    "x_col=\"img_path\",\n",
    "y_col= \"category\",\n",
    "batch_size=128,\n",
    "shuffle= True,\n",
    "target_size = (256,256),\n",
    "class_mode=\"categorical\",\n",
    "workers=4\n",
    ")\n",
    "\n",
    "valgen = ImageDataGenerator(rescale=1./255)\n",
    "val_generator = valgen.flow_from_dataframe(\n",
    "    dataframe=val_df,\n",
    "    directory=\"./dataset\",\n",
    "    x_col=\"img_path\",\n",
    "    y_col=\"category\",\n",
    "    target_size=(256, 256),\n",
    "    batch_size=128,\n",
    "    class_mode=\"categorical\",\n",
    "    workers=4\n",
    ")"
   ]
  },
  {
   "cell_type": "code",
   "execution_count": 4,
   "metadata": {},
   "outputs": [],
   "source": [
    "from keras.models import Model\n",
    "from keras.layers import Dense\n",
    "from keras.regularizers import l2\n",
    "from keras.optimizers import SGD,Adam\n",
    "from keras.applications.vgg16 import VGG16\n",
    "from keras.preprocessing import image\n",
    "from keras.preprocessing.image import DirectoryIterator, ImageDataGenerator\n",
    "from keras.callbacks import ReduceLROnPlateau, ModelCheckpoint, EarlyStopping, TensorBoard\n",
    "from keras import backend as K\n",
    "from keras.layers import Dense, Flatten\n",
    "from tensorflow.keras.applications.densenet import DenseNet121"
   ]
  },
  {
   "cell_type": "code",
   "execution_count": null,
   "metadata": {},
   "outputs": [],
   "source": [
    "# Load pretrained DenseNet121 model\n",
    "\n",
    "# Make classifer deeper\n",
    "# Add new features (dropout, etc)\n",
    "# Make more layeres trainable (last 1-2)\n",
    "base_model = DenseNet121(weights='imagenet', include_top=False, pooling='avg', input_shape=(256, 256, 3))\n",
    "for layer in base_model.layers:\n",
    "    layer.trainable = False\n",
    "\n",
    "# Create new model\n",
    "flat1 = Flatten()(base_model.output)\n",
    "num_classes = 46\n",
    "output = Dense(num_classes, activation='softmax')(flat1)\n",
    "model = Model(inputs=base_model.inputs, outputs=output)\n",
    "model.compile(optimizer=Adam(learning_rate=1e-4), loss='categorical_crossentropy', metrics=['accuracy', 'top_k_categorical_accuracy'])\n",
    "\n",
    "callbacks = [\n",
    "    ReduceLROnPlateau(monitor='val_loss', factor=0.2, patience=5, min_lr=1e-6),\n",
    "    EarlyStopping(monitor='val_loss', patience=10, restore_best_weights=True)\n",
    "]\n",
    "\n"
   ]
  },
  {
   "cell_type": "code",
   "execution_count": 8,
   "metadata": {},
   "outputs": [
    {
     "name": "stdout",
     "output_type": "stream",
     "text": [
      "Epoch 1/10\n"
     ]
    },
    {
     "name": "stderr",
     "output_type": "stream",
     "text": [
      "2024-12-01 19:41:32.928851: I tensorflow/core/common_runtime/executor.cc:1197] [/device:CPU:0] (DEBUG INFO) Executor start aborting (this does not indicate an error and you can ignore this message): INVALID_ARGUMENT: You must feed a value for placeholder tensor 'Placeholder/_0' with dtype int32\n",
      "\t [[{{node Placeholder/_0}}]]\n"
     ]
    },
    {
     "name": "stdout",
     "output_type": "stream",
     "text": [
      "32/32 [==============================] - ETA: 0s - loss: 4.0577 - accuracy: 0.0244 - top_k_categorical_accuracy: 0.1419"
     ]
    },
    {
     "name": "stderr",
     "output_type": "stream",
     "text": [
      "2024-12-01 19:45:01.411331: I tensorflow/core/common_runtime/executor.cc:1197] [/device:CPU:0] (DEBUG INFO) Executor start aborting (this does not indicate an error and you can ignore this message): INVALID_ARGUMENT: You must feed a value for placeholder tensor 'Placeholder/_0' with dtype int32\n",
      "\t [[{{node Placeholder/_0}}]]\n"
     ]
    },
    {
     "name": "stdout",
     "output_type": "stream",
     "text": [
      "32/32 [==============================] - 377s 12s/step - loss: 4.0577 - accuracy: 0.0244 - top_k_categorical_accuracy: 0.1419 - val_loss: 3.8629 - val_accuracy: 0.0395 - val_top_k_categorical_accuracy: 0.1695 - lr: 1.0000e-04\n",
      "Epoch 2/10\n",
      "32/32 [==============================] - 372s 12s/step - loss: 3.8423 - accuracy: 0.0386 - top_k_categorical_accuracy: 0.1660 - val_loss: 3.7465 - val_accuracy: 0.0446 - val_top_k_categorical_accuracy: 0.1934 - lr: 1.0000e-04\n",
      "Epoch 3/10\n",
      "32/32 [==============================] - 424s 13s/step - loss: 3.7350 - accuracy: 0.0494 - top_k_categorical_accuracy: 0.1997 - val_loss: 3.6660 - val_accuracy: 0.0558 - val_top_k_categorical_accuracy: 0.2278 - lr: 1.0000e-04\n",
      "Epoch 4/10\n",
      "32/32 [==============================] - 430s 14s/step - loss: 3.6527 - accuracy: 0.0613 - top_k_categorical_accuracy: 0.2396 - val_loss: 3.5978 - val_accuracy: 0.0679 - val_top_k_categorical_accuracy: 0.2641 - lr: 1.0000e-04\n",
      "Epoch 5/10\n",
      "32/32 [==============================] - 392s 12s/step - loss: 3.5772 - accuracy: 0.0803 - top_k_categorical_accuracy: 0.2840 - val_loss: 3.5315 - val_accuracy: 0.0800 - val_top_k_categorical_accuracy: 0.3036 - lr: 1.0000e-04\n",
      "Epoch 6/10\n",
      "32/32 [==============================] - 458s 15s/step - loss: 3.5054 - accuracy: 0.0957 - top_k_categorical_accuracy: 0.3234 - val_loss: 3.4754 - val_accuracy: 0.0988 - val_top_k_categorical_accuracy: 0.3437 - lr: 1.0000e-04\n",
      "Epoch 7/10\n",
      "32/32 [==============================] - 537s 17s/step - loss: 3.4366 - accuracy: 0.1144 - top_k_categorical_accuracy: 0.3745 - val_loss: 3.4204 - val_accuracy: 0.1115 - val_top_k_categorical_accuracy: 0.3778 - lr: 1.0000e-04\n",
      "Epoch 8/10\n",
      "32/32 [==============================] - 491s 16s/step - loss: 3.3720 - accuracy: 0.1359 - top_k_categorical_accuracy: 0.4096 - val_loss: 3.3663 - val_accuracy: 0.1325 - val_top_k_categorical_accuracy: 0.4129 - lr: 1.0000e-04\n",
      "Epoch 9/10\n",
      "32/32 [==============================] - 441s 14s/step - loss: 3.3089 - accuracy: 0.1528 - top_k_categorical_accuracy: 0.4500 - val_loss: 3.3162 - val_accuracy: 0.1446 - val_top_k_categorical_accuracy: 0.4333 - lr: 1.0000e-04\n",
      "Epoch 10/10\n",
      "32/32 [==============================] - 474s 15s/step - loss: 3.2500 - accuracy: 0.1763 - top_k_categorical_accuracy: 0.4862 - val_loss: 3.2699 - val_accuracy: 0.1539 - val_top_k_categorical_accuracy: 0.4709 - lr: 1.0000e-04\n"
     ]
    }
   ],
   "source": [
    "# Train the model\n",
    "history = model.fit(\n",
    "    train_generator,\n",
    "    validation_data=val_generator,\n",
    "    epochs=10,\n",
    "    steps_per_epoch=len(train_generator),\n",
    "    validation_steps=len(val_generator),\n",
    "    callbacks=callbacks\n",
    ")"
   ]
  },
  {
   "cell_type": "code",
   "execution_count": 9,
   "metadata": {},
   "outputs": [],
   "source": [
    "# save the model to a file\n",
    "model.save(\"model.h5\")"
   ]
  },
  {
   "cell_type": "code",
   "execution_count": null,
   "metadata": {},
   "outputs": [
    {
     "name": "stdout",
     "output_type": "stream",
     "text": [
      "Found 3133 validated image filenames belonging to 46 classes.\n"
     ]
    }
   ],
   "source": [
    "# test the model\n",
    "testgen = ImageDataGenerator(rescale=1./255)\n",
    "test_generator = testgen.flow_from_dataframe(\n",
    "    dataframe=test_df,\n",
    "    directory=\"./dataset\",\n",
    "    x_col=\"img_path\",\n",
    "    y_col=\"category\",\n",
    "    target_size=(256, 256),\n",
    "    batch_size=128,\n",
    "    class_mode=\"categorical\",\n",
    "    workers=4\n",
    ")"
   ]
  },
  {
   "cell_type": "code",
   "execution_count": null,
   "metadata": {},
   "outputs": [
    {
     "name": "stdout",
     "output_type": "stream",
     "text": [
      "4/4 [==============================] - 6s 1s/step\n",
      "Accuracy: 0.171875\n"
     ]
    }
   ],
   "source": [
    "# test using the first element of test_generator\n",
    "feature_extractor = Model(inputs=model.input, outputs=model.layers[-2].output)\n",
    "\n",
    "# Initialize arrays for storing features, inputs, and labels\n",
    "features = []\n",
    "inputs = []\n",
    "labels = []\n",
    "\n",
    "# Extract features batch by batch\n",
    "for batch_x, batch_y in test_generator:\n",
    "    # Stop when we've processed all batches\n",
    "    if len(features) >= test_generator.samples:\n",
    "        break\n",
    "    \n",
    "    # Extract features for the batch\n",
    "    batch_features = feature_extractor.predict(batch_x)\n",
    "    \n",
    "    # Append features, inputs, and labels\n",
    "    features.append(batch_features)\n",
    "    inputs.append(batch_x)\n",
    "    labels.append(batch_y)\n",
    "\n",
    "# Convert lists to NumPy arrays\n",
    "features = np.concatenate(features, axis=0)\n",
    "inputs = np.concatenate(inputs, axis=0)\n",
    "labels = np.concatenate(labels, axis=0)\n",
    "\n",
    "# Save features, inputs, and labels to a file\n",
    "data_to_save = {\n",
    "    'features': features,\n",
    "    'inputs': inputs,\n",
    "    'labels': labels\n",
    "}\n",
    "\n",
    "np.save('clothing_features_from_generator.npy', data_to_save)\n"
   ]
  }
 ],
 "metadata": {
  "kernelspec": {
   "display_name": "ann",
   "language": "python",
   "name": "python3"
  },
  "language_info": {
   "codemirror_mode": {
    "name": "ipython",
    "version": 3
   },
   "file_extension": ".py",
   "mimetype": "text/x-python",
   "name": "python",
   "nbconvert_exporter": "python",
   "pygments_lexer": "ipython3",
   "version": "3.9.18"
  }
 },
 "nbformat": 4,
 "nbformat_minor": 2
}
