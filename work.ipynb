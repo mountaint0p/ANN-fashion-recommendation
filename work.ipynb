{
 "cells": [
  {
   "cell_type": "code",
   "execution_count": null,
   "metadata": {},
   "outputs": [],
   "source": [
    "# import model\n",
    "import numpy as np\n",
    "import pandas as pd\n",
    "import matplotlib.pyplot as plt\n",
    "from keras.preprocessing.image import ImageDataGenerator\n",
    "\n",
    "# import model from model.h5\n",
    "from keras.models import load_model, Model\n",
    "model = load_model('model.h5')"
   ]
  },
  {
   "cell_type": "code",
   "execution_count": 2,
   "metadata": {},
   "outputs": [
    {
     "name": "stdout",
     "output_type": "stream",
     "text": [
      "Found 3133 validated image filenames belonging to 46 classes.\n"
     ]
    }
   ],
   "source": [
    "test_df = pd.read_csv(\"./split-data/test_new.csv\")\n",
    "testgen = ImageDataGenerator(rescale=1./255)\n",
    "test_generator = testgen.flow_from_dataframe(\n",
    "    dataframe=test_df,\n",
    "    directory=\"./dataset\",\n",
    "    x_col=\"img_path\",\n",
    "    y_col=\"category\",\n",
    "    target_size=(256, 256),\n",
    "    batch_size=128,\n",
    "    class_mode=\"categorical\",\n",
    "    workers=4\n",
    ")"
   ]
  },
  {
   "cell_type": "code",
   "execution_count": null,
   "metadata": {},
   "outputs": [],
   "source": [
    "# remove the last layer\n",
    "model.pop()\n",
    "model.compile(optimizer='adam', loss='categorical_crossentropy', metrics=['accuracy, top_k_categorical_accuracy'])\n",
    "\n",
    "# save all the features for the test data\n",
    "features = model.predict_generator(test_generator, workers=4)\n"
   ]
  },
  {
   "cell_type": "code",
   "execution_count": null,
   "metadata": {},
   "outputs": [],
   "source": [
    "# test using the first element of test_generator\n",
    "feature_extractor = Model(inputs=model.input, outputs=model.layers[-2].output)\n",
    "\n",
    "# Initialize arrays for storing features, inputs, and labels\n",
    "features = []\n",
    "inputs = []\n",
    "labels = []\n",
    "\n",
    "# Extract features batch by batch\n",
    "for batch_x, batch_y in test_generator:\n",
    "    # Stop when we've processed all batches\n",
    "    if len(features) >= test_generator.samples:\n",
    "        break\n",
    "    \n",
    "    # Extract features for the batch\n",
    "    batch_features = feature_extractor.predict(batch_x)\n",
    "    \n",
    "    # Append features, inputs, and labels\n",
    "    features.append(batch_features)\n",
    "    inputs.append(batch_x)\n",
    "    labels.append(batch_y)\n",
    "\n",
    "# Convert lists to NumPy arrays\n",
    "features = np.concatenate(features, axis=0)\n",
    "inputs = np.concatenate(inputs, axis=0)\n",
    "labels = np.concatenate(labels, axis=0)\n",
    "\n",
    "# Save features, inputs, and labels to a file\n",
    "data_to_save = {\n",
    "    'features': features,\n",
    "    'inputs': inputs,\n",
    "    'labels': labels\n",
    "}\n",
    "\n",
    "np.save('clothing_features_from_generator.npy', data_to_save)\n"
   ]
  }
 ],
 "metadata": {
  "kernelspec": {
   "display_name": "ann",
   "language": "python",
   "name": "python3"
  },
  "language_info": {
   "codemirror_mode": {
    "name": "ipython",
    "version": 3
   },
   "file_extension": ".py",
   "mimetype": "text/x-python",
   "name": "python",
   "nbconvert_exporter": "python",
   "pygments_lexer": "ipython3",
   "version": "3.9.18"
  }
 },
 "nbformat": 4,
 "nbformat_minor": 2
}
